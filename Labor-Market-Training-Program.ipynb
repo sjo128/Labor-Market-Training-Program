{
 "cells": [
  {
   "cell_type": "markdown",
   "metadata": {},
   "source": [
    "# Causal Inference Project\n",
    "\n",
    "# Evaluation of a Labor Market Training Program in Nonexperimental Studies\n",
    "\n",
    "# Jiwon Son\n"
   ]
  },
  {
   "cell_type": "markdown",
   "metadata": {},
   "source": [
    "# Abstract\n",
    "\n",
    "This project compares different parametric estimators to estimate the treatment impact of the National Supported Work (NSW) Demonstration, a labor market training program, on postintervention earnings. This project then identifies which estimator among these nonexperimental methods gives the closest outcome to the experimental benchmark estimate.\n",
    "\n",
    "This proejct uses data from Lalonde's evaluation of nonexperimental methods that combine the treated group from a randomized evaluation of the NSW with nonexperimental comparison group drawn from a survey dataset named Panel Study of Income Dynamics (PSID).\n",
    "\n",
    "This project applies to the composite dataset a set of nonexperimental methods to obtain various estimates of treatment effect including: control function estimator, differences-in-differences, and propensity score stratification method. It turns out that propensity score estimates of the treatment impact approximate the experimental benchmark estimate the best.\n",
    "\n",
    "This project concludes that when the variables determining assignment to treatment are observed, and when the treatment and comparison groups overlap, propensity score method provides by far the best means to estimate the treatment impact in a non-experimental setting.\n",
    "\n",
    "*Key Words: Treatment Evaulation, Propensity Score Estimators, Stratification, Nonexperimental Studies\n"
   ]
  },
  {
   "cell_type": "markdown",
   "metadata": {},
   "source": [
    "# Introduction and Motivation\n",
    "\n",
    "This project discusses estimation of treatment effects in observational studies. Randomized experiments are relatively rare in the social sciences, and usually an observational sample is used with some individuals observed to receive a treatment while others do not. Previously Lalonde (1986) used data from a randomized evaluation of the NSW labor training program in 1976-77 and studied the extent to which nonexperimental estimators can replicate the \"unbiased\" experimental estimate of the treatment impact when applied to a composite dataset of experimental treatment units and nonexperimental comparison units. He concluded that standard nonexperimental estimators such as regression and fixed effect models are inaccurate. His work has ever since spurred efforts to search for an alternative estimator of treatment impact in nonexperimental studies.\n",
    "\n",
    "First, I discuss nonexperimental estimates of treatment impact obtained from other estimators than propensity score methods and compare them to see how they differ in estimating treatment effect. Methods used here include \n",
    "treatment-control comparison, control function estimator, before-after comparison, and differences-in-differences estimator.\n",
    "\n",
    "Next, I apply propensity score methods to Dehejia and Whaba's subset (with RE74 added) of Lalonde's dataset. Based on the idea of comparability of the treatment and nonexperimental comparison groups in terms of the preintervention variables, propensity score methods first assume that the variables associated with assignment to treatment are observed. Additionally, differences between the treatment and comparison groups must be controlled for when they are dissimilar and when there are many preintervention variables. The estimated propensity score can control for differences between the treatment and nonexperimental comparison groups. The estimated propensity score summarizes the preintervention variables and offers a diagnostic on the comparability of the treatment and comparison groups. When the range of estimated propensity scores of the treatment and comparison groups overlap, these methods can estimate the treatment impact for the treated group. In fact, when applying the propensity methods, I obtain the closest estimate to the unbiased experimental treatment effect than other nonexperimental estimates.\n"
   ]
  },
  {
   "cell_type": "code",
   "execution_count": 62,
   "metadata": {
    "collapsed": true
   },
   "outputs": [],
   "source": [
    "# Load core data science libraries\n",
    "\n",
    "import numpy as np\n",
    "import pandas as pd\n",
    "import matplotlib.pyplot as plt\n",
    "import statsmodels.api as sm\n",
    "import seaborn as sns\n",
    "from causalinference import CausalModel\n",
    "import scipy.stats as stats\n",
    "\n",
    "# Load data\n",
    "# Read the file and specify the column name/type, along with parameters\n",
    "\n",
    "\n",
    "col_dtypes = {'Treat':int, 'Age':int, 'Education':int,\\\n",
    "              'Black':int, 'Hispanic':int, 'Married':int, 'Nodegree':int,\\\n",
    "              'RE74':float, 'RE75':float, 'RE78':float}\n",
    "\n",
    "df_nswre74_t  = pd.read_csv('/Users/davidson/Downloads/nswre74_treated.txt',dtype=col_dtypes,\\\n",
    "                    na_values='', engine='c', sep = '\\t',encoding = 'utf-8')\n",
    "\n",
    "df_nswre74_c  = pd.read_csv('/Users/davidson/Downloads/nswre74_control.txt',dtype=col_dtypes,\\\n",
    "                    na_values='', engine='c', sep = '\\t',encoding = 'utf-8')\n",
    "\n",
    "df_psid_c  = pd.read_csv('/Users/davidson/Downloads/psid_controls.txt',dtype=col_dtypes,\\\n",
    "                    na_values='', engine='c', sep = '\\t',encoding = 'utf-8')\n",
    "\n",
    "\n",
    "#Source: \"Causal Effects in Non-Experimental Studies: Reevaluating the Evaluation of Training Programs,\" Journal of the American Statistical Association, Vol. 94, No. 448 (December 1999), pp. 1053-1062. \n",
    "#        \"Propensity Score Matching Methods for Non-Experimental Causal Studies,\" Review of Economics and Statistics, Vol. 84, (February 2002), pp. 151-161.\n",
    "#         The data are drawn from a paper by Robert Lalonde, \"Evaluating the Econometric Evaluations of Training Programs,\" American Economic Review, Vol. 76, pp. 604-620."
   ]
  },
  {
   "cell_type": "markdown",
   "metadata": {},
   "source": [
    "# Data\n",
    "\n",
    "This project draws upon the RE74 subset (of NSW treated) data and PSID comparison group data as part of replication of Dehejia and Whaba (1999) study.\n",
    "\n",
    "RE74 subset originally comes from Lalonde's research on the impact of the NSW. The demonstration at that time looked at the male participants in the program for 1976-77 period, using 1975 as the preintervention earnings and 1978 as the postintervention earnings. Dehija and Wahba (1999) recognize the importance of looking at more than one year of preintervention earnings in determining the effect of job training programs and further limit their study to the subset of Lalonde's NSW data for which 1974 earnings can be obtained.\n",
    "\n",
    "Non-experimental comparison group PSID is obtained from the Panel Study of Income Dynamics (PSID-1), as used in Lalonde (1999).\n",
    "\n",
    "Overall, in the composite data, the treated RE74 subset consists of the 185 males who received training during 1976-1977. The comparison group is one of the 2490 male household heads under the age of 55 who are not retired, drawn from the PSID.\n"
   ]
  },
  {
   "cell_type": "code",
   "execution_count": 63,
   "metadata": {},
   "outputs": [
    {
     "name": "stdout",
     "output_type": "stream",
     "text": [
      "       Treat         Age   Education       Black    Hispanic     Married  \\\n",
      "count  185.0  185.000000  185.000000  185.000000  185.000000  185.000000   \n",
      "mean     1.0   25.816216   10.345946    0.843243    0.059459    0.189189   \n",
      "std      0.0    7.155019    2.010650    0.364558    0.237124    0.392722   \n",
      "min      1.0   17.000000    4.000000    0.000000    0.000000    0.000000   \n",
      "25%      1.0   20.000000    9.000000    1.000000    0.000000    0.000000   \n",
      "50%      1.0   25.000000   11.000000    1.000000    0.000000    0.000000   \n",
      "75%      1.0   29.000000   12.000000    1.000000    0.000000    0.000000   \n",
      "max      1.0   48.000000   16.000000    1.000000    1.000000    1.000000   \n",
      "\n",
      "         Nodegree          RE74          RE75          RE78  \n",
      "count  185.000000    185.000000    185.000000    185.000000  \n",
      "mean     0.708108   2095.767568   1531.417838   6348.908108  \n",
      "std      0.455867   4885.554103   3216.415954   7866.648942  \n",
      "min      0.000000      0.000000      0.000000      0.000000  \n",
      "25%      0.000000      0.000000      0.000000    485.000000  \n",
      "50%      1.000000      0.000000      0.000000   4230.000000  \n",
      "75%      1.000000   1290.000000   1820.000000   9640.000000  \n",
      "max      1.000000  35000.000000  25100.000000  60300.000000  \n",
      "        Treat          Age    Education        Black     Hispanic  \\\n",
      "count  2490.0  2490.000000  2490.000000  2490.000000  2490.000000   \n",
      "mean      0.0    34.850602    12.116867     0.250602     0.032530   \n",
      "std       0.0    10.440757     3.082435     0.433447     0.177439   \n",
      "min       0.0    18.000000     0.000000     0.000000     0.000000   \n",
      "25%       0.0    26.000000    11.000000     0.000000     0.000000   \n",
      "50%       0.0    33.000000    12.000000     0.000000     0.000000   \n",
      "75%       0.0    44.000000    14.000000     1.000000     0.000000   \n",
      "max       0.0    55.000000    17.000000     1.000000     1.000000   \n",
      "\n",
      "           Married     Nodegree           RE74           RE75           RE78  \n",
      "count  2490.000000  2490.000000    2490.000000    2490.000000    2490.000000  \n",
      "mean      0.866265     0.305221   19430.857671   19063.163133   21553.054096  \n",
      "std       0.340436     0.460593   13406.470394   13600.271588   15554.259704  \n",
      "min       0.000000     0.000000       0.000000       0.000000       0.000000  \n",
      "25%       1.000000     0.000000   10800.000000    9850.000000   11500.000000  \n",
      "50%       1.000000     0.000000   18400.000000   17900.000000   20700.000000  \n",
      "75%       1.000000     1.000000   26500.000000   26500.000000   29600.000000  \n",
      "max       1.000000     1.000000  137000.000000  157000.000000  121000.000000  \n"
     ]
    },
    {
     "data": {
      "text/plain": [
       "Ttest_indResult(statistic=array([-15.9581066 , -11.05351659,  21.03410202,   1.51350687,\n",
       "       -22.82134259,  11.58928295, -38.64650253, -48.58605649, -23.14116753]), pvalue=array([  7.51578401e-040,   1.94533387e-023,   5.43253494e-055,\n",
       "         1.31732745e-001,   3.37581692e-058,   2.13287086e-024,\n",
       "         4.03197092e-143,   1.23800564e-251,   4.56105356e-069]))"
      ]
     },
     "execution_count": 63,
     "metadata": {},
     "output_type": "execute_result"
    }
   ],
   "source": [
    "# Summary Table for Treatment (RE74 subset) and Comparison (PSID-1) Group\n",
    "\n",
    "print(df_nswre74_t.describe())\n",
    "print(df_psid_c.describe())\n",
    "\n",
    "# T-test for mean difference\n",
    "\n",
    "stats.ttest_ind(df_nswre74_t.drop(['Treat'], axis=1), df_psid_c.drop(['Treat'], axis=1), equal_var = False)"
   ]
  },
  {
   "cell_type": "markdown",
   "metadata": {},
   "source": [
    "Summary Statistics of the RE74 subsample (of nsw treated) and the PSID sample (comparison group)\n",
    "\n",
    "It is clear that the PSID differs considerably from the RE74 subsample in terms of age, education, ethnicity, marital status, and preintervention earnings. Specifically, the treatment group is disproportionately black (84%) with less than a high school degree (71%). In fact, all of the mean differences are significantly different from 0 beyond a 1% level of significance, except for the indicator for \"Hispanic.\"\n",
    "\n",
    "Under this situation, estimates of the effect of training should control for these differences. For example, we might want to use propensity score stratfication to obtain ATET given that the unconfoundedness and overlap assumptions hold."
   ]
  },
  {
   "cell_type": "code",
   "execution_count": 64,
   "metadata": {},
   "outputs": [
    {
     "data": {
      "image/png": "[encoded data removed]",
      "text/plain": [
       "<matplotlib.figure.Figure at 0x1c16686390>"
      ]
     },
     "metadata": {},
     "output_type": "display_data"
    },
    {
     "data": {
      "image/png": "[encoded data removed]",
      "text/plain": [
       "<matplotlib.figure.Figure at 0x1c172b1c50>"
      ]
     },
     "metadata": {},
     "output_type": "display_data"
    }
   ],
   "source": [
    "# Concatenated dataframe of unmatched treatment and control groups--composite dataset for propensity method\n",
    "\n",
    "unmatched_raw = pd.concat([df_psid_c, df_nswre74_t], axis=0)\n",
    "\n",
    "#Comparison between Control and Treatment groups Before and After Training--Real Earnings in 1975 vs. 1978\n",
    "\n",
    "sns.kdeplot(unmatched_raw[unmatched_raw.Treat == 1].RE75, label='Treatment RE75')\n",
    "sns.kdeplot(unmatched_raw[unmatched_raw.Treat == 0].RE75, label='PSID Comparison RE75');\n",
    "plt.show()\n",
    "\n",
    "sns.kdeplot(unmatched_raw[unmatched_raw.Treat == 1].RE78, label='Treatment RE78')\n",
    "sns.kdeplot(unmatched_raw[unmatched_raw.Treat == 0].RE78, label='PSID Comparison RE78');\n",
    "plt.show()"
   ]
  },
  {
   "cell_type": "markdown",
   "metadata": {},
   "source": [
    "As shown on the graphs above, treatment and comparison groups have different distributions of real earnings in 1975 and 1978. The comparison group earns more than the treatment group in both years. Apparently, the treatment group shows improvement in earnigs after the treatment since the earnings gap narrows in 1978."
   ]
  },
  {
   "cell_type": "markdown",
   "metadata": {},
   "source": [
    "# Identification of Average Treatment Effect\n",
    "\n",
    "\n",
    "Various approaches can be used to estimate the effect of training on earnings.\n",
    "\n",
    "The first approach used here is control function approach, where we look at the coefficient $\\alpha$ of the treatment indicator $D_{i}$ in OLS regression of $RE78_{i}$ on an intercept and $D_{i}$ in a combined treatment-control sample, with the regression as shown below:\n",
    "\n",
    "$RE78_{i} = x_{i}^{'} \\beta + \\alpha D_{i} + u_{i},    i = 1,...,2675$\n",
    "\n",
    "The second approach is difference-in-differences, where before-after comparison first looks at the difference between posttreatment earnings RE78 and pretreatment earnings RE75. Then, difference-in-differences estimator is obtained in a regression as shwon below:\n",
    "\n",
    "$RE78_{it} = \\phi + \\delta D78_{it} + \\gamma D_{i} + \\alpha D78_{it}D_{i} + u_{i}, i = 1,...,2675,   t = 75, 78$,\n",
    "\n",
    "where $D78_{it}$ is a treatment variable of $i$ in $t$, and $\\alpha$ is the estimate of treatment impact.\n",
    "\n",
    "Now, to validate estimating ATET using propensity score methods, let $RE78_{i1}$ represent the value of treatment earning $i$ in $1978$, and $RE78_{i0}$ the value of comparison earning as in the two regressions above. Then since only one of them can be observed for any unit, the observed outcome for unit $i$ is $RE78_{i} = D_{i}RE78_{i1}+(1-D_{i})RE78_{i0}$. The treatment effect for unit $i$ is $\\tau_{i} = RE78_{i1}-RE78_{i0}$.\n",
    "\n",
    "In an experimental setting with randomized assignment to treatment, the treatment and control groups are drawn from the same population. The average treatment effect for this population is $\\tau = E(RE78_{i1}) - E(RE78_{i0})$. Randomization implies that ${RE78_{i0}, RE78_{i1}} \\!\\perp\\!\\!\\!\\perp D_{i}$,\n",
    "\n",
    "so $\\tau = E(RE78_{i1}|D_{i}=1)-E(RE78_{i0}|D_{i}=0) = E(RE78_{i}|D_{i}=1)-E(RE78_{i}|D_{i}=0)$,\n",
    "\n",
    "which is easily estimated.\n",
    "\n",
    "In an observational study, the treatment and comparison groups are often drawn from different populations. Here the treatment group is drawn from population of interest: NSW welfare recipients. Nonexperimental comparison group is drawn from a different population, and thus more representative of the general population. The treatment effect that we are trying to identify is the ATET (average treatment effect for the treated population):\n",
    "\n",
    "$\\tau|_{D=1} = E(RE78_{i1}|D_{i}=1) - E(RE78_{i0}|D_{i}=1)$.\n",
    "                            \n",
    "This expression cannot be estimated directly, because $RE78_{i0}$ is not observed for treated units. Assuming ${RE78_{i1},RE78_{i0} \\!\\perp\\!\\!\\!\\perp D_{i}}|X_{i}$, we obtain \n",
    "\n",
    "$E(RE78_{ij}|X_{i},D_{i}=1) = E(RE78_{ij}|X_{i},D_{i}=0) = E(RE78_{i}|X_{i},D_{i}=j)$ for $j = 0,1$. \n",
    "\n",
    "To restate in words, this is to say that conditional on the observables, $X_{i}$, there is no systematic pretreatment difference between the groups assgiend to treatment and control. This allows us to identify the ATET as in the following:\n",
    "\n",
    "$\\tau|_{D=1} = E(E(RE78_{i}|D_{i}=1,X_{i})-E(RE78_{i}|D_{i}=0,X_{i})|D_{i}=1)$.\n",
    "            \n",
    "Now, propensity score $p(X_{i})$ is defined as in the following: $p(X_{i}) = Pr(D_{i} = 1|X_{i}) = E(D_{i}|X_{i})$.\n",
    "\n",
    "Asssuming that $0< p(X_{i}) < 1$, for all $X_{i}$ and $Pr(D_{1}, D_{2},..., D_{N}|X_{1},X_{2},...,X_{N}) = \\Pi_{i=1,2,...,N}p(X_{i})^{D_{i}}(1-p(X_{i}))^{(1-D_{i})}$ for the N units in the sample,\n",
    "\n",
    "${RE78_{i0}, RE78_{i1}} \\!\\perp\\!\\!\\!\\perp D_{i}|X_{i} =implies= {RE78_{i0}, RE78_{i1}} \\!\\perp\\!\\!\\!\\perp D_{i}|p(X_{i})$.\n",
    "\n",
    "Then $\\tau|_{D=1} = E[[E(RE78_{i}|D_{i}=1,p(X_{i})) - E(RE78_{i}|D_{i}=0,p(X_{i}))]|D_{i}=1]$,\n",
    "\n",
    "giving the same result when conditioning on $p(X_{i})$, since observations with the same propensity score would have the same distribution of $X_{i}$.\n"
   ]
  },
  {
   "cell_type": "markdown",
   "metadata": {},
   "source": [
    "# Estimation Strategy\n",
    "\n",
    "First, I use treatment-control comparison and measure the effect of training by direct comparison of sample means of posttreatment earnings for the combined treatment and comparison groups. Next, I adopt a control function estimator, adding and thus controlling for the covariates. Then, I use before-after comparison and look at the difference between posttreatment and pretreatment earnings. Considering that the estimate could be misleading from reflecting all changes over this time period, I use the difference-in-differences estimator.\n",
    "\n",
    "Then I turn to the propensity score estimator. I estimate the propensity score for the composite sample consisting of the treatment units and the comparison units. I use a logistic probability model, under the assumption of $X_{i} \\!\\perp\\!\\!\\!\\perp D_{i}|p(X_{i})$:\n",
    "Conditional on the propensity score, the covariates are independent of assignment to treatment, and each individual has the same probability of assignment to treatment, as in a randomized experiment.\n",
    "\n",
    "I stratify observations based on the estimated propensity score and balance the covariates within each stratum. Next, given the estimated propensity score, I estimate a univariate nonparametric regression. With stratification, observations are sorted from lowest to highest estimated propensity score. The strata, defined on the estimated propensity score, are chosen so that the covariates within each stratum are balanced across the treatment and comparison units. The process of validating the propensity score estimate produces partition structures that balance preintervention covariates across the treatment and comparison groups within each stratum."
   ]
  },
  {
   "cell_type": "code",
   "execution_count": 65,
   "metadata": {},
   "outputs": [
    {
     "name": "stdout",
     "output_type": "stream",
     "text": [
      "                            OLS Regression Results                            \n",
      "==============================================================================\n",
      "Dep. Variable:                   RE78   R-squared:                       0.056\n",
      "Model:                            OLS   Adj. R-squared:                  0.036\n",
      "Method:                 Least Squares   F-statistic:                     2.847\n",
      "Date:                Wed, 09 May 2018   Prob (F-statistic):            0.00287\n",
      "Time:                        11:28:47   Log-Likelihood:                -4534.0\n",
      "No. Observations:                 445   AIC:                             9088.\n",
      "Df Residuals:                     435   BIC:                             9129.\n",
      "Df Model:                           9                                         \n",
      "Covariance Type:            nonrobust                                         \n",
      "==============================================================================\n",
      "                 coef    std err          t      P>|t|      [0.025      0.975]\n",
      "------------------------------------------------------------------------------\n",
      "constant     797.2273   3352.885      0.238      0.812   -5792.642    7387.096\n",
      "Treat       1674.2238    638.212      2.623      0.009     419.862    2928.585\n",
      "Age          -41.7053    161.370     -0.258      0.796    -358.867     275.457\n",
      "Age2          96.1286    155.981      0.616      0.538    -210.441     402.698\n",
      "Education    399.5569    226.895      1.761      0.079     -46.391     845.505\n",
      "Nodegree     -49.0002   1004.779     -0.049      0.961   -2023.825    1925.825\n",
      "Black      -2207.6995   1168.407     -1.889      0.059   -4504.125      88.726\n",
      "Hispanic      80.6647   1550.101      0.052      0.959   -2965.953    3127.283\n",
      "RE74           0.0782      0.078      1.007      0.314      -0.074       0.231\n",
      "RE75           0.0493      0.132      0.373      0.709      -0.211       0.309\n",
      "==============================================================================\n",
      "Omnibus:                      283.273   Durbin-Watson:                   2.057\n",
      "Prob(Omnibus):                  0.000   Jarque-Bera (JB):             3688.353\n",
      "Skew:                           2.533   Prob(JB):                         0.00\n",
      "Kurtosis:                      16.163   Cond. No.                     7.14e+04\n",
      "==============================================================================\n",
      "\n",
      "Warnings:\n",
      "[1] Standard Errors assume that the covariance matrix of the errors is correctly specified.\n",
      "[2] The condition number is large, 7.14e+04. This might indicate that there are\n",
      "strong multicollinearity or other numerical problems.\n"
     ]
    }
   ],
   "source": [
    "#########################\n",
    "\n",
    "#Least Squares Regression of RE78 onto a constant, a Treatment indicator, Age, Age^2,\n",
    "#Education, Nodegree, Black, Hispanic, RE74, and RE75\n",
    "\n",
    "df_nswre74_t['constant'] = 1\n",
    "df_nswre74_c['constant'] = 1\n",
    "df_psid_c['constant'] = 1\n",
    "\n",
    "df_nswre74_t['Age2'] = df_nswre74_t['Age']^2\n",
    "df_nswre74_c['Age2'] = df_nswre74_c['Age']^2\n",
    "df_psid_c['Age2'] = df_psid_c['Age']^2\n",
    "\n",
    "\n",
    "Y_nswre74_t = df_nswre74_t['RE78']\n",
    "Y_nswre74_c = df_nswre74_c['RE78']\n",
    "X_nswre74_t = df_nswre74_t[['constant','Treat','Age','Age2','Education','Nodegree',\\\n",
    "                  'Black','Hispanic','RE74','RE75']]\n",
    "X_nswre74_c = df_nswre74_c[['constant','Treat','Age','Age2','Education','Nodegree',\\\n",
    "                  'Black','Hispanic','RE74','RE75']]\n",
    "X_psid_c = df_psid_c[['constant','Treat','Age','Age2','Education','Nodegree',\\\n",
    "                  'Black','Hispanic','RE74','RE75']]\n",
    "\n",
    "##########################\n",
    "\n",
    "#control function estimator for experimental control/treatment data ==> experimental/benchmark estimates\n",
    "#use RE74 subsample given in Dehejia and Whaba(1999) instead of Lalonde(1986)\n",
    "\n",
    "df_nswre74_combined = pd.concat([df_nswre74_t,df_nswre74_c],axis=0)\n",
    "\n",
    "Y_nswre74_combined = df_nswre74_combined['RE78']\n",
    "X_nswre74_combined = df_nswre74_combined[['constant','Treat','Age','Age2','Education','Nodegree',\\\n",
    "                  'Black','Hispanic','RE74','RE75']]\n",
    "\n",
    "ols = sm.OLS(Y_nswre74_combined,X_nswre74_combined).fit()\n",
    "print(ols.summary())\n",
    "\n",
    "##########################\n"
   ]
  },
  {
   "cell_type": "markdown",
   "metadata": {},
   "source": [
    "According to Lalonde, the NSW program assigned qualified applicants to training positions randomly, whereby those assigned to the treatment group received all the benefits of the NSW program, while those assigned to the control group were left on their own. The OLS result above thus gives an experimental estimate of the treatment impact on the earnings, as shown in the coefficient of the Treat. This is the benchmark estimate that can be compared with other estimates, which I gain through nonexperimental methods."
   ]
  },
  {
   "cell_type": "code",
   "execution_count": 66,
   "metadata": {},
   "outputs": [
    {
     "name": "stdout",
     "output_type": "stream",
     "text": [
      "-15204.145988277432\n",
      "                            OLS Regression Results                            \n",
      "==============================================================================\n",
      "Dep. Variable:                   RE78   R-squared:                       0.061\n",
      "Model:                            OLS   Adj. R-squared:                  0.061\n",
      "Method:                 Least Squares   F-statistic:                     173.4\n",
      "Date:                Wed, 09 May 2018   Prob (F-statistic):           2.02e-38\n",
      "Time:                        11:28:47   Log-Likelihood:                -29544.\n",
      "No. Observations:                2675   AIC:                         5.909e+04\n",
      "Df Residuals:                    2673   BIC:                         5.910e+04\n",
      "Df Model:                           1                                         \n",
      "Covariance Type:            nonrobust                                         \n",
      "==============================================================================\n",
      "                 coef    std err          t      P>|t|      [0.025      0.975]\n",
      "------------------------------------------------------------------------------\n",
      "Treat       -1.52e+04   1154.533    -13.169      0.000   -1.75e+04   -1.29e+04\n",
      "constant    2.155e+04    303.620     70.987      0.000     2.1e+04    2.21e+04\n",
      "==============================================================================\n",
      "Omnibus:                      714.235   Durbin-Watson:                   0.926\n",
      "Prob(Omnibus):                  0.000   Jarque-Bera (JB):             2688.678\n",
      "Skew:                           1.277   Prob(JB):                         0.00\n",
      "Kurtosis:                       7.196   Cond. No.                         3.96\n",
      "==============================================================================\n",
      "\n",
      "Warnings:\n",
      "[1] Standard Errors assume that the covariance matrix of the errors is correctly specified.\n"
     ]
    }
   ],
   "source": [
    "#Training Impact: Various Estimates of Treatment Effect\n",
    "\n",
    "############################\n",
    "\n",
    "#The mean difference in RE78 between NSW treated and PSID control individuals\n",
    "#(treatment-control comparision estimator--mimics the analysis in an experimental setting)\n",
    "\n",
    "ATE = np.mean(df_nswre74_t['RE78'])-np.mean(df_psid_c['RE78'])\n",
    "print(ATE)\n",
    "\n",
    "############################\n",
    "\n",
    "df_psid_combined = pd.concat([df_nswre74_t,df_psid_c],axis=0)\n",
    "\n",
    "RE78 = df_psid_combined['RE78']\n",
    "D = df_psid_combined[['Treat','constant']]\n",
    "\n",
    "ols = sm.OLS(RE78,D).fit()\n",
    "\n",
    "print(ols.summary())\n",
    "\n",
    "#############################"
   ]
  },
  {
   "cell_type": "markdown",
   "metadata": {},
   "source": [
    "When we simply take the mean difference in RE78 between NSW treated and PSID control units, or equivalently when we run OLS Regression of Posttreatment earning on a constant and the treatment variable, then we obtain a negative treatment impact estimate of -15204."
   ]
  },
  {
   "cell_type": "code",
   "execution_count": 67,
   "metadata": {},
   "outputs": [
    {
     "name": "stdout",
     "output_type": "stream",
     "text": [
      "                            OLS Regression Results                            \n",
      "==============================================================================\n",
      "Dep. Variable:                   RE78   R-squared:                       0.586\n",
      "Model:                            OLS   Adj. R-squared:                  0.584\n",
      "Method:                 Least Squares   F-statistic:                     418.7\n",
      "Date:                Wed, 09 May 2018   Prob (F-statistic):               0.00\n",
      "Time:                        11:28:48   Log-Likelihood:                -28449.\n",
      "No. Observations:                2675   AIC:                         5.692e+04\n",
      "Df Residuals:                    2665   BIC:                         5.698e+04\n",
      "Df Model:                           9                                         \n",
      "Covariance Type:            nonrobust                                         \n",
      "==============================================================================\n",
      "                 coef    std err          t      P>|t|      [0.025      0.975]\n",
      "------------------------------------------------------------------------------\n",
      "Treat        105.3498    863.319      0.122      0.903   -1587.493    1798.192\n",
      "Age          -91.1544     99.259     -0.918      0.359    -285.788     103.479\n",
      "Education    579.3580    103.187      5.615      0.000     377.024     781.692\n",
      "Black       -676.0093    493.102     -1.371      0.171   -1642.910     290.892\n",
      "Hispanic    2195.4080   1093.352      2.008      0.045      51.503    4339.313\n",
      "Nodegree     535.6319    646.824      0.828      0.408    -732.696    1803.960\n",
      "RE74           0.2812      0.028     10.072      0.000       0.226       0.336\n",
      "RE75           0.5690      0.028     20.642      0.000       0.515       0.623\n",
      "constant     828.7825   1627.201      0.509      0.611   -2361.922    4019.487\n",
      "Age2          14.5255     97.709      0.149      0.882    -177.068     206.119\n",
      "==============================================================================\n",
      "Omnibus:                      986.522   Durbin-Watson:                   1.892\n",
      "Prob(Omnibus):                  0.000   Jarque-Bera (JB):            21481.497\n",
      "Skew:                           1.218   Prob(JB):                         0.00\n",
      "Kurtosis:                      16.667   Cond. No.                     2.75e+05\n",
      "==============================================================================\n",
      "\n",
      "Warnings:\n",
      "[1] Standard Errors assume that the covariance matrix of the errors is correctly specified.\n",
      "[2] The condition number is large, 2.75e+05. This might indicate that there are\n",
      "strong multicollinearity or other numerical problems.\n"
     ]
    }
   ],
   "source": [
    "#############################\n",
    "\n",
    "#control function estimator\n",
    "RE78 = df_psid_combined['RE78']\n",
    "D2 = df_psid_combined.drop(['RE78'],axis=1)\n",
    "D2 = D2.drop(['Married'],axis=1)\n",
    "\n",
    "ols_cf = sm.OLS(RE78,D2).fit()\n",
    "\n",
    "print(ols_cf.summary())\n",
    "\n",
    "#############################"
   ]
  },
  {
   "cell_type": "markdown",
   "metadata": {},
   "source": [
    "When we use control function estimator, the estimate of the treatment impact is 105. Adding control variables to the regression thus gives a positive estimate of the treatment impact."
   ]
  },
  {
   "cell_type": "code",
   "execution_count": 68,
   "metadata": {},
   "outputs": [
    {
     "name": "stdout",
     "output_type": "stream",
     "text": [
      "4817.490270270271\n"
     ]
    }
   ],
   "source": [
    "#############################\n",
    "\n",
    "#Before-after comparison\n",
    "\n",
    "BATE = np.mean(df_nswre74_t['RE78'])-np.mean(df_nswre74_t['RE75'])\n",
    "print(BATE)\n",
    "\n",
    "#############################"
   ]
  },
  {
   "cell_type": "markdown",
   "metadata": {},
   "source": [
    "Before-after comparison of the treatment gives an estimate of the treatment impact equal to 4817, quite large compared to the benchmark estimate."
   ]
  },
  {
   "cell_type": "code",
   "execution_count": 69,
   "metadata": {},
   "outputs": [
    {
     "name": "stdout",
     "output_type": "stream",
     "text": [
      "2327.5993064148497\n",
      "                            OLS Regression Results                            \n",
      "==============================================================================\n",
      "Dep. Variable:                RE78_it   R-squared:                       0.756\n",
      "Model:                            OLS   Adj. R-squared:                  0.755\n",
      "Method:                 Least Squares   F-statistic:                     1501.\n",
      "Date:                Wed, 09 May 2018   Prob (F-statistic):               0.00\n",
      "Time:                        11:28:48   Log-Likelihood:                -55208.\n",
      "No. Observations:                5350   AIC:                         1.104e+05\n",
      "Df Residuals:                    5338   BIC:                         1.105e+05\n",
      "Df Model:                          11                                         \n",
      "Covariance Type:            nonrobust                                         \n",
      "==============================================================================\n",
      "                 coef    std err          t      P>|t|      [0.025      0.975]\n",
      "------------------------------------------------------------------------------\n",
      "Treat      -1111.1247    595.267     -1.867      0.062   -2278.092      55.843\n",
      "Age          -45.5772     51.136     -0.891      0.373    -145.824      54.670\n",
      "Education    289.6790     53.159      5.449      0.000     185.466     393.892\n",
      "Black       -338.0046    254.032     -1.331      0.183    -836.012     160.003\n",
      "Hispanic    1097.7040    563.265      1.949      0.051      -6.525    2201.933\n",
      "Nodegree     267.8159    333.226      0.804      0.422    -385.443     921.075\n",
      "RE74           0.1406      0.014      9.775      0.000       0.112       0.169\n",
      "RE75           0.7845      0.014     55.242      0.000       0.757       0.812\n",
      "constant    -830.5542    844.721     -0.983      0.326   -2486.552     825.444\n",
      "Age2           7.2627     50.337      0.144      0.885     -91.419     105.944\n",
      "D78_it      2489.8910    208.093     11.965      0.000    2081.943    2897.839\n",
      "D78_itD_i   2327.5993    791.287      2.942      0.003     776.353    3878.845\n",
      "==============================================================================\n",
      "Omnibus:                     2614.276   Durbin-Watson:                   1.862\n",
      "Prob(Omnibus):                  0.000   Jarque-Bera (JB):           205250.844\n",
      "Skew:                           1.459   Prob(JB):                         0.00\n",
      "Kurtosis:                      33.203   Cond. No.                     2.90e+05\n",
      "==============================================================================\n",
      "\n",
      "Warnings:\n",
      "[1] Standard Errors assume that the covariance matrix of the errors is correctly specified.\n",
      "[2] The condition number is large, 2.9e+05. This might indicate that there are\n",
      "strong multicollinearity or other numerical problems.\n"
     ]
    }
   ],
   "source": [
    "#############################\n",
    "\n",
    "#Difference-in-differences (DiD)\n",
    "BATE = np.mean(df_nswre74_t['RE78'])-np.mean(df_nswre74_t['RE75'])\n",
    "BAC = np.mean(df_psid_c['RE78'])-np.mean(df_psid_c['RE75'])\n",
    "\n",
    "DiD = BATE-BAC\n",
    "print(DiD)\n",
    "\n",
    "#############################\n",
    "#DID OLS regression\n",
    "#df_combined = df_combined.reindex()\n",
    "\n",
    "df_psid_combined['D78_0'] = 0\n",
    "df_psid_combined['D78_1'] = 1\n",
    "\n",
    "X_i = pd.concat([D2,D2],axis=0)\n",
    "\n",
    "RE78_it = pd.concat([df_psid_combined['RE75'],df_psid_combined['RE78']],axis=0)\n",
    "X_i['RE78_it'] = np.array(RE78_it)\n",
    "\n",
    "D78_it = pd.concat([df_psid_combined['D78_0'],df_psid_combined['D78_1']],axis=0)\n",
    "X_i['D78_it'] = np.array(D78_it)\n",
    "\n",
    "#X_i = X_i.reindex()\n",
    "\n",
    "X_i['D78_itD_i'] = X_i['D78_it']*X_i['Treat']\n",
    "\n",
    "X_DiD = X_i.drop(['RE78_it'],axis=1)\n",
    "\n",
    "ols_DiD = sm.OLS(X_i['RE78_it'],X_DiD).fit()\n",
    "print(ols_DiD.summary())\n",
    "#############################"
   ]
  },
  {
   "cell_type": "markdown",
   "metadata": {},
   "source": [
    "The Difference-in-Differences estimator gives 2327 as an estimate of the treatment impact (coefficient on D78_itD_i), closer to the benchmark estimate of 1674 than the estimate obtained by before-after comparison."
   ]
  },
  {
   "cell_type": "code",
   "execution_count": 70,
   "metadata": {},
   "outputs": [
    {
     "name": "stdout",
     "output_type": "stream",
     "text": [
      "Optimization terminated successfully.\n",
      "         Current function value: 0.660176\n",
      "         Iterations 5\n",
      "                           Logit Regression Results                           \n",
      "==============================================================================\n",
      "Dep. Variable:                  Treat   No. Observations:                  445\n",
      "Model:                          Logit   Df Residuals:                      436\n",
      "Method:                           MLE   Df Model:                            8\n",
      "Date:                Wed, 09 May 2018   Pseudo R-squ.:                 0.02755\n",
      "Time:                        11:28:48   Log-Likelihood:                -293.78\n",
      "converged:                       True   LL-Null:                       -302.10\n",
      "                                        LLR p-value:                   0.03404\n",
      "==============================================================================\n",
      "                 coef    std err          z      P>|z|      [0.025      0.975]\n",
      "------------------------------------------------------------------------------\n",
      "constant       1.1112      1.049      1.059      0.290      -0.945       3.167\n",
      "Age            0.0113      0.051      0.220      0.826      -0.089       0.112\n",
      "Age2          -0.0049      0.050     -0.099      0.921      -0.102       0.092\n",
      "Education     -0.0683      0.072     -0.955      0.340      -0.209       0.072\n",
      "Nodegree      -0.9007      0.314     -2.872      0.004      -1.515      -0.286\n",
      "Black         -0.2120      0.365     -0.580      0.562      -0.928       0.504\n",
      "Hispanic      -0.8345      0.507     -1.646      0.100      -1.828       0.159\n",
      "RE74       -3.181e-05   2.59e-05     -1.230      0.219   -8.25e-05    1.89e-05\n",
      "RE75         6.71e-05   4.25e-05      1.578      0.115   -1.63e-05       0.000\n",
      "==============================================================================\n"
     ]
    },
    {
     "data": {
      "image/png": "[encoded data removed]",
      "text/plain": [
       "<matplotlib.figure.Figure at 0x1c16547be0>"
      ]
     },
     "metadata": {},
     "output_type": "display_data"
    },
    {
     "data": {
      "image/png": "[encoded data removed]",
      "text/plain": [
       "<matplotlib.figure.Figure at 0x1c165384a8>"
      ]
     },
     "metadata": {},
     "output_type": "display_data"
    },
    {
     "data": {
      "image/png": "[encoded data removed]",
      "text/plain": [
       "<matplotlib.figure.Figure at 0x1c15d762b0>"
      ]
     },
     "metadata": {},
     "output_type": "display_data"
    }
   ],
   "source": [
    "# Propensity Score e(x) for Experimental Estimates\n",
    "# Logit  or  log odds ratio ==> log[ e(x) / ( 1 - e(x) ) ] \n",
    "# e(x)  =  exp(logit) / ( 1 + exp(logit) )\n",
    "\n",
    "\n",
    "df_nswre74 = pd.concat([df_nswre74_t,df_nswre74_c],axis=0)\n",
    "X_nswre74 = pd.concat([X_nswre74_t,X_nswre74_c],axis=0)\n",
    "\n",
    "# Construct the outcome vector for logistic regression \n",
    "Y_nswre74_logit = df_nswre74['Treat']\n",
    "\n",
    "\n",
    "# Construct the design matrix for the logistic regression\n",
    "# We only need to remove the \"Treat\" column from the previous design matrix\n",
    "X_nswre74_logit = X_nswre74.drop(['Treat'],axis=1)\n",
    "\n",
    "# Compute the logistic regression\n",
    "logit = sm.Logit(Y_nswre74_logit,X_nswre74_logit).fit()\n",
    "\n",
    "print(logit.summary())\n",
    "\n",
    "\n",
    "# Compute the fitted propensity scores and append it to the dataframe\n",
    "df_nswre74['propensity_score'] = logit.predict()\n",
    "\n",
    "\n",
    "############################\n",
    "\n",
    "# Extract the propensity scores correspoinding to SAT==1\n",
    "ps_t = np.array(df_nswre74['propensity_score'][df_nswre74['Treat']==1])\n",
    "\n",
    "# Extract the propensity scores corresponding to SAT==0\n",
    "ps_c = np.array(df_nswre74['propensity_score'][df_nswre74['Treat']==0])\n",
    "\n",
    "# Set the intervals (bins) for propensity scores\n",
    "bins = np.linspace(0,1,21)\n",
    "\n",
    "# Plot the histogram corresponding to SAT==1, with 20 bins. label it SAT\n",
    "plt.hist(ps_t,bins, alpha = 0.5, label = 'NSW Treat')\n",
    "\n",
    "# Plot (overlay) the histogram for SAT==0 with 20 bins. label it CEB\n",
    "plt.hist(ps_c,bins, alpha = 0.5, label = 'Control')\n",
    "plt.legend()\n",
    "\n",
    "# Label the X and Y axes\n",
    "plt.xlabel('Propesity Score')\n",
    "plt.ylabel('# Observations')\n",
    "\n",
    "# Set ticks on the x-axis\n",
    "plt.xticks(np.linspace(0,1,11))\n",
    "\n",
    "plt.show()\n",
    "\n",
    "############################\n",
    "\n",
    "plt.scatter(ps_t, df_nswre74_t['RE78'])\n",
    "\n",
    "plt.xlabel('Propensity Score_Treat')\n",
    "plt.ylabel('Observed Earnings')\n",
    "\n",
    "plt.show()\n",
    "\n",
    "plt.scatter(ps_c, df_nswre74_c['RE78'])\n",
    "\n",
    "plt.xlabel('Porpensity Score_Control')\n",
    "plt.ylabel('Observed Earnings')\n",
    "\n",
    "plt.show()\n",
    "\n",
    "#############################\n"
   ]
  },
  {
   "cell_type": "markdown",
   "metadata": {},
   "source": [
    "The above is a plot of the two histograms, with 20 bins, for the estimated propensity scores. The blue-colored bars correspond to the NSW program treatment group, and the apricot colored ones correspond to the control group. The brown colors indicate the overlap.\n",
    "\n",
    "The histograms show that the overlap condition is overall well satisfied. The obsesrvations are concentrated in the center([0.2,0.7]),and there isn't any huge discrepancy to speak of in any bin."
   ]
  },
  {
   "cell_type": "code",
   "execution_count": 71,
   "metadata": {},
   "outputs": [
    {
     "name": "stdout",
     "output_type": "stream",
     "text": [
      "Optimization terminated successfully.\n",
      "         Current function value: 0.094816\n",
      "         Iterations 11\n",
      "                           Logit Regression Results                           \n",
      "==============================================================================\n",
      "Dep. Variable:                  Treat   No. Observations:                 2675\n",
      "Model:                          Logit   Df Residuals:                     2666\n",
      "Method:                           MLE   Df Model:                            8\n",
      "Date:                Wed, 09 May 2018   Pseudo R-squ.:                  0.6229\n",
      "Time:                        11:28:48   Log-Likelihood:                -253.63\n",
      "converged:                       True   LL-Null:                       -672.65\n",
      "                                        LLR p-value:                1.303e-175\n",
      "==============================================================================\n",
      "                 coef    std err          z      P>|z|      [0.025      0.975]\n",
      "------------------------------------------------------------------------------\n",
      "constant       1.2152      1.134      1.072      0.284      -1.007       3.437\n",
      "Age           -0.1291      0.059     -2.184      0.029      -0.245      -0.013\n",
      "Age2           0.0166      0.058      0.289      0.773      -0.096       0.130\n",
      "Education      0.0111      0.067      0.166      0.868      -0.120       0.142\n",
      "Nodegree       0.6337      0.337      1.878      0.060      -0.028       1.295\n",
      "Black          2.4756      0.307      8.064      0.000       1.874       3.077\n",
      "Hispanic       2.1374      0.525      4.074      0.000       1.109       3.166\n",
      "RE74          -0.0001   2.95e-05     -4.802      0.000      -0.000   -8.39e-05\n",
      "RE75          -0.0003   3.98e-05     -6.876      0.000      -0.000      -0.000\n",
      "==============================================================================\n",
      "\n",
      "Possibly complete quasi-separation: A fraction 0.45 of observations can be\n",
      "perfectly predicted. This might indicate that there is complete\n",
      "quasi-separation. In this case some parameters will not be identified.\n"
     ]
    },
    {
     "data": {
      "image/png": "[encoded data removed]",
      "text/plain": [
       "<matplotlib.figure.Figure at 0x1c165e3278>"
      ]
     },
     "metadata": {},
     "output_type": "display_data"
    },
    {
     "data": {
      "image/png": "[encoded data removed]",
      "text/plain": [
       "<matplotlib.figure.Figure at 0x1c0d04a358>"
      ]
     },
     "metadata": {},
     "output_type": "display_data"
    },
    {
     "data": {
      "image/png": "[encoded data removed]",
      "text/plain": [
       "<matplotlib.figure.Figure at 0x1c0d04aac8>"
      ]
     },
     "metadata": {},
     "output_type": "display_data"
    }
   ],
   "source": [
    "# Propensity Score e(x) for Non-Experimental Estimates\n",
    "\n",
    "# Propensity Score_psid_c = e(x)\n",
    "\n",
    "# logit ( or log odds ratio = (log e(x)/(1-e(x)) )\n",
    "\n",
    "df_dw = pd.concat([df_nswre74_t,df_psid_c],axis=0)\n",
    "X_dw = pd.concat([X_nswre74_t,X_psid_c],axis=0)\n",
    "\n",
    "# Construct the outcome vector for logistic regression \n",
    "Y_dw_logit = df_dw['Treat']\n",
    "\n",
    "# Construct the design matrix for the logistic regression\n",
    "# We only need to remove the \"Treat\" column from the previous design matrix\n",
    "X_dw_logit = X_dw.drop(['Treat'],axis=1)\n",
    "\n",
    "# Compute the logistic regression\n",
    "logit = sm.Logit(Y_dw_logit,X_dw_logit).fit()\n",
    "\n",
    "print(logit.summary())\n",
    "\n",
    "# Compute the fitted propensity scores and append it to the dataframe\n",
    "df_dw['propensity_score'] = logit.predict()\n",
    "\n",
    "############################\n",
    "\n",
    "# Extract the propensity scores correspoinding to Treat==1\n",
    "ps_dw_t = np.array(df_dw['propensity_score'][df_dw['Treat']==1])\n",
    "\n",
    "# Extract the propensity scores corresponding to Treat==0\n",
    "ps_dw_c = np.array(df_dw['propensity_score'][df_dw['Treat']==0])\n",
    "\n",
    "# Set the intervals (bins) for propensity scores\n",
    "bins = np.linspace(0,1,21)\n",
    "\n",
    "# Plot the histogram corresponding to Treat==1, with 20 bins. label it\n",
    "plt.hist(ps_dw_t,bins, alpha = 0.5, label = 'NSW RE74 Treat')\n",
    "\n",
    "# Plot (overlay) the histogram for Treat==0 with 20 bins. label it\n",
    "plt.hist(ps_dw_c,bins, alpha = 0.5, label = 'PSID-1 Comparison')\n",
    "plt.legend()\n",
    "\n",
    "# Label the X and Y axes\n",
    "plt.xlabel('Propesity Score')\n",
    "plt.ylabel('# Observations')\n",
    "\n",
    "# Set ticks on the x-axis\n",
    "plt.xticks(np.linspace(0,1,11))\n",
    "plt.axis([0,1,0,150])\n",
    "plt.show()\n",
    "\n",
    "#############################\n",
    "\n",
    "plt.scatter(ps_dw_t, df_nswre74_t['RE78'])\n",
    "plt.xlabel('Propensity Score_Treat')\n",
    "plt.ylabel('Observed Earnings')\n",
    "plt.show()\n",
    "\n",
    "plt.scatter(ps_dw_c, df_psid_c['RE78'])\n",
    "plt.xlabel('Propensity Score_Control')\n",
    "plt.ylabel('Observed Earnings')\n",
    "plt.show()"
   ]
  },
  {
   "cell_type": "markdown",
   "metadata": {},
   "source": [
    "The above is a plot of two histograms, with 20 bins, for the estimated propensity scores. The blue-colored bars correspond to the NSW program treatment group, and the apricot colored ones correspond to the PSID comparison group. The brown colors indicate the overlap.\n",
    "The histograms show that the overlap condition is meagerly satisfied. First, there are no observations at the right-hand side ([0.95,1]) and a huge discrepancy at the left-hand side. We may disregard these intervals because there are no observations from both groups. The above plot indicates that there is an interval, [0.9,0.95], where we do not have overlap."
   ]
  },
  {
   "cell_type": "markdown",
   "metadata": {},
   "source": [
    "Here, to estimate average treatment effect we have to implement subclassification. Imbens (2015) stresses the importance of dropping units with extreme values of th propensity score to obtain a more balanced sample, which I do through the trimming process after estimating the propensity scores through causal_model function. It is shown and printed in the causal model summary statistics below."
   ]
  },
  {
   "cell_type": "code",
   "execution_count": 72,
   "metadata": {},
   "outputs": [
    {
     "name": "stdout",
     "output_type": "stream",
     "text": [
      "                            OLS Regression Results                            \n",
      "==============================================================================\n",
      "Dep. Variable:                   RE78   R-squared:                       0.075\n",
      "Model:                            OLS   Adj. R-squared:                  0.074\n",
      "Method:                 Least Squares   F-statistic:                     108.0\n",
      "Date:                Wed, 09 May 2018   Prob (F-statistic):           7.79e-46\n",
      "Time:                        11:28:49   Log-Likelihood:                -29524.\n",
      "No. Observations:                2675   AIC:                         5.905e+04\n",
      "Df Residuals:                    2672   BIC:                         5.907e+04\n",
      "Df Model:                           2                                         \n",
      "Covariance Type:            nonrobust                                         \n",
      "=====================================================================================\n",
      "                        coef    std err          t      P>|t|      [0.025      0.975]\n",
      "-------------------------------------------------------------------------------------\n",
      "constant           2.176e+04    303.120     71.772      0.000    2.12e+04    2.24e+04\n",
      "Treat             -7086.5224   1720.073     -4.120      0.000   -1.05e+04   -3713.714\n",
      "propensity_score2 -1.877e+04   2964.788     -6.329      0.000   -2.46e+04    -1.3e+04\n",
      "==============================================================================\n",
      "Omnibus:                      730.241   Durbin-Watson:                   0.952\n",
      "Prob(Omnibus):                  0.000   Jarque-Bera (JB):             2819.786\n",
      "Skew:                           1.298   Prob(JB):                         0.00\n",
      "Kurtosis:                       7.309   Cond. No.                         11.3\n",
      "==============================================================================\n",
      "\n",
      "Warnings:\n",
      "[1] Standard Errors assume that the covariance matrix of the errors is correctly specified.\n"
     ]
    }
   ],
   "source": [
    "#Quadratic in score_PSID\n",
    "\n",
    "Y_dw = df_dw['RE78']\n",
    "df_dw['propensity_score2'] = df_dw['propensity_score']**2\n",
    "X_dw = df_dw[['constant','Treat','propensity_score2']]\n",
    "\n",
    "ols = sm.OLS(Y_dw,X_dw).fit()\n",
    "print(ols.summary())"
   ]
  },
  {
   "cell_type": "markdown",
   "metadata": {
    "collapsed": true
   },
   "source": [
    "In the regression of RE78 on quadratic propensity scores, the estimator of treatment impact is -7086, again negative."
   ]
  },
  {
   "cell_type": "code",
   "execution_count": 73,
   "metadata": {},
   "outputs": [
    {
     "name": "stdout",
     "output_type": "stream",
     "text": [
      "\n",
      "Summary Statistics\n",
      "\n",
      "                       Controls (N_c=164)         Treated (N_t=124)             \n",
      "       Variable         Mean         S.d.         Mean         S.d.     Raw-diff\n",
      "--------------------------------------------------------------------------------\n",
      "              Y     7088.268    11357.235     6176.347     6847.842     -911.922\n",
      "\n",
      "                       Controls (N_c=164)         Treated (N_t=124)             \n",
      "       Variable         Mean         S.d.         Mean         S.d.     Nor-diff\n",
      "--------------------------------------------------------------------------------\n",
      "             X0       29.634       10.726       27.476        7.473       -0.233\n",
      "             X1       10.500        2.998       10.524        2.078        0.009\n",
      "             X2        0.732        0.444        0.806        0.397        0.177\n",
      "             X3        0.061        0.240        0.073        0.260        0.046\n",
      "             X4        0.512        0.501        0.210        0.409       -0.661\n",
      "             X5        0.616        0.488        0.653        0.478        0.077\n",
      "             X6     4622.244     5653.954     2140.121     4234.947       -0.497\n",
      "             X7     3147.851     3340.493     1347.075     2073.244       -0.648\n",
      "             X8        0.390        0.489        0.637        0.483        0.508\n",
      "             X9        0.384        0.488        0.556        0.499        0.349\n",
      "\n",
      "\n",
      "Treatment Effect Estimates: OLS\n",
      "\n",
      "                     Est.       S.e.          z      P>|z|      [95% Conf. int.]\n",
      "--------------------------------------------------------------------------------\n",
      "           ATE   -123.111    970.793     -0.127      0.899  -2025.865   1779.644\n",
      "           ATC  -1140.166   1174.184     -0.971      0.332  -3441.566   1161.234\n",
      "           ATT   1222.028   1227.816      0.995      0.320  -1184.492   3628.547\n",
      "\n",
      "Treatment Effect Estimates: Matching\n",
      "\n",
      "                     Est.       S.e.          z      P>|z|      [95% Conf. int.]\n",
      "--------------------------------------------------------------------------------\n",
      "           ATE   1015.121   2097.655      0.484      0.628  -3096.283   5126.526\n",
      "           ATC   -575.507   2213.295     -0.260      0.795  -4913.566   3762.551\n",
      "           ATT   3118.856   3118.153      1.000      0.317  -2992.723   9230.436\n",
      "\n",
      "\n",
      "Estimated Parameters of Propensity Score\n",
      "\n",
      "                    Coef.       S.e.          z      P>|z|      [95% Conf. int.]\n",
      "--------------------------------------------------------------------------------\n",
      "     Intercept      0.372      1.282      0.291      0.771     -2.140      2.885\n",
      "            X0     -0.105      0.018     -5.930      0.000     -0.140     -0.070\n",
      "            X1     -0.013      0.076     -0.173      0.863     -0.162      0.136\n",
      "            X2      2.611      0.361      7.238      0.000      1.904      3.318\n",
      "            X3      2.164      0.593      3.650      0.000      1.002      3.326\n",
      "            X4     -1.573      0.283     -5.553      0.000     -2.129     -1.018\n",
      "            X5      0.640      0.376      1.701      0.089     -0.097      1.378\n",
      "            X6      0.000      0.000      0.716      0.474     -0.000      0.000\n",
      "            X7     -0.000      0.000     -5.634      0.000     -0.000     -0.000\n",
      "            X8      3.232      0.493      6.562      0.000      2.267      4.198\n",
      "            X9     -1.373      0.460     -2.985      0.003     -2.274     -0.471\n",
      "\n",
      "\n",
      "Stratification Summary\n",
      "\n",
      "              Propensity Score         Sample Size     Ave. Propensity   Outcome\n",
      "   Stratum      Min.      Max.  Controls   Treated  Controls   Treated  Raw-diff\n",
      "--------------------------------------------------------------------------------\n",
      "         1     0.075     0.359       126        19     0.166     0.194 -1395.336\n",
      "         2     0.362     0.927        38       105     0.527     0.704  -485.506\n",
      "\n",
      "blocks:    [0.075042813361144156, 0.35895198460059197, 0.9266850608342837]\n"
     ]
    }
   ],
   "source": [
    "# Concatenated dataframe of unmatched treatment and control groups--composite dataset for propensity method\n",
    "\n",
    "unmatched_raw = pd.concat([df_psid_c, df_nswre74_t], axis=0)\n",
    "\n",
    "unmatched_raw['u74'] = (unmatched_raw.RE74 == 0).astype(np.int32)\n",
    "unmatched_raw['u75'] = (unmatched_raw.RE75 == 0).astype(np.int32)\n",
    "\n",
    "# Causal Effect of the Training Program\n",
    "# Average Treatment Effect on the Treated (Regression on the overlap population)\n",
    "# Propensity Score Block/Stratification Matching\n",
    "# Stratification-stratifying the sample into blocks that contain units with similar propensity scores.\n",
    "# ATET is the weighted average of the differences between the average outcome of the treated and the control groups in strata.\n",
    "\n",
    "causal_model = CausalModel(\n",
    "    X=unmatched_raw[['Age', 'Education', 'Black', 'Hispanic', 'Married', 'Nodegree', 'RE74', 'RE75', 'u74', 'u75']].values, \n",
    "    D=unmatched_raw.Treat.values,\n",
    "    Y=unmatched_raw.RE78.values\n",
    ")\n",
    "\n",
    "#Estimates the propensity scores given list of covariates to include linearly or quadratically.\n",
    "#The propensity score is the conditional probability of receiving the treatment given the observed covariates. Estimation is done via a logistic regression.\n",
    "\n",
    "causal_model.est_propensity()\n",
    "\n",
    "#Trims data based on propensity score to create a subsample with better covariate balance.\n",
    "#The default cutoff value is set to 0.1. This method should only be executed after the propensity score has been estimated.\n",
    "#Trims data based on propensity score using the cutoff selection algorithm suggested by Reference1.\n",
    "#Reference1: Crump, R., Hotz, V., Imbens, G., & Mitnik, O. (2009). Dealing with Limited Overlap in Estimation of Average Treatment Effects. Biometrika, 96, 187-199.\n",
    "\n",
    "causal_model.trim_s()\n",
    "\n",
    "#Stratifies the sample based on propensity score using the bin selection procedure suggested by Reference2.\n",
    "#The bin selection algorithm is based on a sequence of two-sample t tests performed on the log-odds ratio.\n",
    "#Reference2: Imbens, G. & Rubin, D. (2015). Causal Inference in Statistics, Social, and Biomedical Sciences: An Introduction.\n",
    "\n",
    "causal_model.stratify_s()\n",
    "\n",
    "\n",
    "#Estimates average treatment effects using least squares\n",
    "causal_model.est_via_ols()\n",
    "\n",
    "\n",
    "#Estimates average treatment effects using nearest-neighborhood matching\n",
    "causal_model.est_via_matching(weights='inv', matches=1, bias_adj=True)\n",
    "\n",
    "\n",
    "print(causal_model.summary_stats)\n",
    "print(causal_model.estimates)\n",
    "print(causal_model.propensity)\n",
    "print(causal_model.strata)\n",
    "print('blocks:   ', causal_model.blocks)"
   ]
  },
  {
   "cell_type": "markdown",
   "metadata": {
    "collapsed": true
   },
   "source": [
    "In the NSW treatment earings less comparison group earnings, conditional on the stratified propensity score, the estimated treatment impact is 1222, closer to the benchmark estimate than other nonexperimental estimates. On the other hand, treatment impact obtained from nearest neighborhood matching is 3119, still higher than the benchmark."
   ]
  },
  {
   "cell_type": "code",
   "execution_count": 74,
   "metadata": {},
   "outputs": [
    {
     "data": {
      "text/html": [
       "<div>\n",
       "<style>\n",
       "    .dataframe thead tr:only-child th {\n",
       "        text-align: right;\n",
       "    }\n",
       "\n",
       "    .dataframe thead th {\n",
       "        text-align: left;\n",
       "    }\n",
       "\n",
       "    .dataframe tbody tr th {\n",
       "        vertical-align: top;\n",
       "    }\n",
       "</style>\n",
       "<table border=\"1\" class=\"dataframe\">\n",
       "  <thead>\n",
       "    <tr style=\"text-align: right;\">\n",
       "      <th></th>\n",
       "      <th>0</th>\n",
       "      <th>1</th>\n",
       "      <th>2</th>\n",
       "    </tr>\n",
       "  </thead>\n",
       "  <tbody>\n",
       "    <tr>\n",
       "      <th>0</th>\n",
       "      <td>Method</td>\n",
       "      <td>Estimate</td>\n",
       "      <td>StdError</td>\n",
       "    </tr>\n",
       "    <tr>\n",
       "      <th>1</th>\n",
       "      <td>*Benchmark</td>\n",
       "      <td>1674</td>\n",
       "      <td>638</td>\n",
       "    </tr>\n",
       "    <tr>\n",
       "      <th>2</th>\n",
       "      <td>Treatment-control comparison</td>\n",
       "      <td>-15204</td>\n",
       "      <td>1154</td>\n",
       "    </tr>\n",
       "    <tr>\n",
       "      <th>3</th>\n",
       "      <td>Control function estimator</td>\n",
       "      <td>105</td>\n",
       "      <td>863</td>\n",
       "    </tr>\n",
       "    <tr>\n",
       "      <th>4</th>\n",
       "      <td>Before-after comparison</td>\n",
       "      <td>4817</td>\n",
       "      <td></td>\n",
       "    </tr>\n",
       "    <tr>\n",
       "      <th>5</th>\n",
       "      <td>Differences-in-differences</td>\n",
       "      <td>2327</td>\n",
       "      <td>791</td>\n",
       "    </tr>\n",
       "    <tr>\n",
       "      <th>6</th>\n",
       "      <td>Quadratic propensity score</td>\n",
       "      <td>-7086</td>\n",
       "      <td>1720</td>\n",
       "    </tr>\n",
       "    <tr>\n",
       "      <th>7</th>\n",
       "      <td>*Propensity score stratification</td>\n",
       "      <td>1222</td>\n",
       "      <td>1227</td>\n",
       "    </tr>\n",
       "  </tbody>\n",
       "</table>\n",
       "</div>"
      ],
      "text/plain": [
       "                                  0         1         2\n",
       "0                            Method  Estimate  StdError\n",
       "1                        *Benchmark      1674       638\n",
       "2      Treatment-control comparison    -15204      1154\n",
       "3        Control function estimator       105       863\n",
       "4           Before-after comparison      4817          \n",
       "5        Differences-in-differences      2327       791\n",
       "6        Quadratic propensity score     -7086      1720\n",
       "7  *Propensity score stratification      1222      1227"
      ]
     },
     "execution_count": 74,
     "metadata": {},
     "output_type": "execute_result"
    }
   ],
   "source": [
    "#Results in Table\n",
    "#Training Impact: Various Estimates of Treatment Effect\n",
    "#############################\n",
    " \n",
    "Method = [\"Method\", \"*Benchmark\", \"Treatment-control comparison\", \"Control function estimator\", \"Before-after comparison\", \"Differences-in-differences\", \"Quadratic propensity score\", \"*Propensity score stratification\"]\n",
    "Estimate = [\"Estimate\", 1674, -15204, 105, 4817, 2327, -7086, 1222]\n",
    "StdError = [\"StdError\", 638, 1154, 863, \"\", 791, 1720, 1227]\n",
    "\n",
    "df = pd.DataFrame([Method, Estimate, StdError])\n",
    "df.T\n",
    "\n",
    "#############################"
   ]
  },
  {
   "cell_type": "markdown",
   "metadata": {},
   "source": [
    "# Conclusions\n",
    "\n",
    "This project has studied how to estimate the treatment impact in an observational study using a set of nonexperimental estimators. Specifically, this project relies on the propensity stratification method to estimate the treatment impact of National Supported Work Program on posttraining earnings. Unconfoundedness assumption guarantees that stratifying on propensity scores provides a valid way of constructing treatment effect estimators.\n",
    "\n",
    "Results show that the propensity score estimate of the training effect for Dehejia and Whaba's composite dataset is good relative to other estimators. Using this method, I obtain estimates of the treatment impact of 1222, close to the benchmark estimate of 1674, unbiased and gained from experiment.\n",
    "\n",
    "The methods suggested are certainly not relevant in all situations. There may be important yet unobserved covariates, for which the propensity score method cannot account. Still, there is reward in exploring the information contained in the observed variables in and of itself. All in all, propensity score methods can offer both a diagnositc on the quality of the comparison group and a means to estimate the treatment impact. For further work, it might be useful to consider additional lagged measures of earnnigs to get a better assessment of the unconfoundedness assumption."
   ]
  },
  {
   "cell_type": "markdown",
   "metadata": {},
   "source": [
    "# References\n",
    "\n",
    "Dehejia, R., and Whaba, S. (1999), \"Causal Effects in Nonexperimental Studies: Reevaluating the Evaulation of Training Programs.\"\n",
    "\n",
    "Lalonde, R. (1986), \"Evaluating the Econometric Evaluations of Training Programs,\" American Economic Review, 76, pp. 604-620.\n",
    "\n",
    "Imbens, G. (2015), \"Matching Methods in Practice: Three Examples,\" Journal of Human Resources, University of Wisconsin Press, vol. 50(2), pp. 373-419.\n",
    "\n",
    "Cameron, A.C. and P.K. Trivedi (2005), Microeconometrics: methods and applications, Cambridge, pp. 889–95"
   ]
  }
 ],
 "metadata": {
  "kernelspec": {
   "display_name": "Python 3",
   "language": "python",
   "name": "python3"
  },
  "language_info": {
   "codemirror_mode": {
    "name": "ipython",
    "version": 3
   },
   "file_extension": ".py",
   "mimetype": "text/x-python",
   "name": "python",
   "nbconvert_exporter": "python",
   "pygments_lexer": "ipython3",
   "version": "3.6.3"
  }
 },
 "nbformat": 4,
 "nbformat_minor": 2
}
